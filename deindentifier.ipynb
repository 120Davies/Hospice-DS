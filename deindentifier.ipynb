{
 "cells": [
  {
   "cell_type": "code",
   "execution_count": 1,
   "metadata": {},
   "outputs": [],
   "source": [
    "import numpy as np \n",
    "import pandas as pd\n"
   ]
  },
  {
   "cell_type": "code",
   "execution_count": 2,
   "metadata": {},
   "outputs": [
    {
     "name": "stdout",
     "output_type": "stream",
     "text": [
      "E:\\Current_Project\\Hospice-DS\n"
     ]
    }
   ],
   "source": [
    "%cd E:\\\\Current_Project\\Hospice-DS"
   ]
  },
  {
   "cell_type": "code",
   "execution_count": 3,
   "metadata": {},
   "outputs": [],
   "source": [
    "df = pd.read_csv('h_data.csv')\n",
    "pd.set_option('display.max_columns', None)\n",
    "pd.set_option('display.max_rows', None)"
   ]
  },
  {
   "cell_type": "code",
   "execution_count": 4,
   "metadata": {},
   "outputs": [
    {
     "name": "stdout",
     "output_type": "stream",
     "text": [
      "Index(['ProgramID', 'RevokedWithin60Days', 'GenericEquivalentsAcceptable',\n",
      "       'TherapeuticSubstitutionAllowed'],\n",
      "      dtype='object')\n"
     ]
    },
    {
     "data": {
      "text/plain": [
       "array(['PatientID', 'EpisodeID', 'ReferralID', 'AdmissionID',\n",
       "       'AdmissionDate', 'AdmissionTime', 'AdmittedBy', 'DischargeReason',\n",
       "       'DischargeDate', 'DischargeTime', 'DischargeCondition',\n",
       "       'DischargeByDeath', 'DeathPlace', 'AdmitCode', 'HPDate',\n",
       "       'RecordEffectiveDate', 'AdmitFromID', 'CauseOfDeath',\n",
       "       'PatientID.1', 'DOB', 'Sex', 'Race', 'MaritalStatus',\n",
       "       'PatientDeathDate', 'PatientDeathTime', 'PatientIdentifierID',\n",
       "       'PatAdmissionDivisionID', 'PatientID.2', 'EpisodeID.1',\n",
       "       'ReferralID.1', 'AdmissionID.1', 'DivisionID'], dtype=object)"
      ]
     },
     "execution_count": 4,
     "metadata": {},
     "output_type": "execute_result"
    }
   ],
   "source": [
    "# many columns are uninformative, having only one value. Remove those.\n",
    "\n",
    "nu = df.apply(pd.Series.nunique)\n",
    "drops = nu[nu == 1].index\n",
    "df = df.drop(drops, axis=1)\n",
    "print(drops)\n",
    "df.columns.values"
   ]
  },
  {
   "cell_type": "code",
   "execution_count": 5,
   "metadata": {
    "scrolled": true
   },
   "outputs": [],
   "source": [
    "# remove other uninformative or irrelevant features\n",
    "drops = ['DischargeReason', \n",
    "         'DischargeTime', \n",
    "         'DischargeCondition',\n",
    "         'DeathPlace',\n",
    "         'RecordEffectiveDate',\n",
    "         'AdmittedBy',\n",
    "         'AdmitFromID', \n",
    "         'CauseOfDeath', \n",
    "         'PatientID.1', \n",
    "         'PatientDeathTime', \n",
    "         'PatientIdentifierID', \n",
    "         'PatientID.2', \n",
    "         'EpisodeID.1', \n",
    "         'ReferralID.1', \n",
    "         'AdmissionID.1']\n",
    "\n",
    "df = df.drop(drops, axis = 1)"
   ]
  },
  {
   "cell_type": "code",
   "execution_count": 6,
   "metadata": {},
   "outputs": [],
   "source": [
    "# add feature for days in hospice\n",
    "date_cols = ['AdmissionDate', 'DischargeDate', 'DOB', 'HPDate', 'PatientDeathDate']\n",
    "\n",
    "for col in date_cols:\n",
    "    df[col] = pd.to_datetime(df[col])\n",
    "\n",
    "df['Days'] = df['DischargeDate'].sub(df['AdmissionDate'], axis=0)/np.timedelta64(1, 'D')"
   ]
  },
  {
   "cell_type": "code",
   "execution_count": 7,
   "metadata": {},
   "outputs": [],
   "source": [
    "# add feature for age at admission\n",
    "df['Age'] = df['AdmissionDate'].sub(df['DOB'], axis=0)/np.timedelta64(1, 'Y')"
   ]
  },
  {
   "cell_type": "code",
   "execution_count": 8,
   "metadata": {
    "scrolled": true
   },
   "outputs": [],
   "source": [
    "# remove other potentially identifying data\n",
    "df = df.drop(date_cols, axis=1)"
   ]
  },
  {
   "cell_type": "code",
   "execution_count": 9,
   "metadata": {},
   "outputs": [],
   "source": [
    "# Export deidentified cleaned data\n",
    "df.to_csv('deidentified_hospice.csv', index=False)"
   ]
  }
 ],
 "metadata": {
  "kernelspec": {
   "display_name": "Python 3",
   "language": "python",
   "name": "python3"
  },
  "language_info": {
   "codemirror_mode": {
    "name": "ipython",
    "version": 3
   },
   "file_extension": ".py",
   "mimetype": "text/x-python",
   "name": "python",
   "nbconvert_exporter": "python",
   "pygments_lexer": "ipython3",
   "version": "3.7.3"
  }
 },
 "nbformat": 4,
 "nbformat_minor": 2
}
